{
 "cells": [
  {
   "cell_type": "code",
   "execution_count": 1,
   "id": "3beba11e-d400-4568-a02f-93196a4388f1",
   "metadata": {},
   "outputs": [
    {
     "data": {
      "text/plain": [
       "'What is Abstraction in OOps? Explain with an example.'"
      ]
     },
     "execution_count": 1,
     "metadata": {},
     "output_type": "execute_result"
    }
   ],
   "source": [
    "\"\"\"What is Abstraction in OOps? Explain with an example.\"\"\""
   ]
  },
  {
   "cell_type": "code",
   "execution_count": 2,
   "id": "461d01c9-35ec-4441-a4ea-fbb9283383cb",
   "metadata": {},
   "outputs": [
    {
     "data": {
      "text/plain": [
       "'a process of handling complexity by hiding unnecessary information from the user. This is one of the core concepts of object-oriented programming (OOP) languages.'"
      ]
     },
     "execution_count": 2,
     "metadata": {},
     "output_type": "execute_result"
    }
   ],
   "source": [
    "\"\"\"a process of handling complexity by hiding unnecessary information from the user. This is one of the core concepts of object-oriented programming (OOP) languages.\"\"\""
   ]
  },
  {
   "cell_type": "code",
   "execution_count": 1,
   "id": "3ad6683d-9ef6-4b3d-bc64-65ef6e7d7b3d",
   "metadata": {},
   "outputs": [],
   "source": [
    "class car:\n",
    "    def __init__(self, year, make, model, speed):\n",
    "        \n",
    "        self.__year=year\n",
    "        self.__make=make\n",
    "        self.__model= model\n",
    "        self.__speed= 0\n",
    "        \n",
    "    def set_speed(self,speed):\n",
    "        self.__speed =0 if speed < 0 else speed\n",
    "    \n",
    "    \n",
    "    def get_speed(self):\n",
    "        return self.__speed"
   ]
  },
  {
   "cell_type": "code",
   "execution_count": 2,
   "id": "676948ed-2456-4e23-8df2-1d2086196f27",
   "metadata": {},
   "outputs": [],
   "source": [
    "obj=car(2021,\"toyota\",\"inova\",0)"
   ]
  },
  {
   "cell_type": "code",
   "execution_count": 3,
   "id": "ae40ae5b-5148-403c-9ba7-40d49587546a",
   "metadata": {},
   "outputs": [],
   "source": [
    "obj.set_speed(-3245)"
   ]
  },
  {
   "cell_type": "code",
   "execution_count": 4,
   "id": "1fb91bd1-2e12-44ca-a0da-32488371df24",
   "metadata": {},
   "outputs": [
    {
     "data": {
      "text/plain": [
       "' q2 ans= Abstraction is a way of representing some specific data. Encapsulation is a way of hiding the complexity of something and exposing only the parts you wish to expose. For example, if you have a class that has one or more private fields that you use to store the data, then you are in encapsulation.'"
      ]
     },
     "execution_count": 4,
     "metadata": {},
     "output_type": "execute_result"
    }
   ],
   "source": [
    "\"\"\" q2 ans= Abstraction is a way of representing some specific data. Encapsulation is a way of hiding the complexity of something and exposing only the parts you wish to expose. For example, if you have a class that has one or more private fields that you use to store the data, then you are in encapsulation.\"\"\""
   ]
  },
  {
   "cell_type": "code",
   "execution_count": 5,
   "id": "8e90f031-4901-4435-ba03-2c7385abb446",
   "metadata": {},
   "outputs": [
    {
     "data": {
      "text/plain": [
       "'This module provides the infrastructure for defining abstract base classes (ABCs) in Python'"
      ]
     },
     "execution_count": 5,
     "metadata": {},
     "output_type": "execute_result"
    }
   ],
   "source": [
    "\"\"\"This module provides the infrastructure for defining abstract base classes (ABCs) in Python\"\"\""
   ]
  },
  {
   "cell_type": "code",
   "execution_count": 6,
   "id": "183c3420-1485-45e5-8901-4d83e0668d9b",
   "metadata": {},
   "outputs": [
    {
     "data": {
      "text/plain": [
       "'In Python, abstraction can be achieved by having/using abstract classes and methods in our programs. Understanding Abstract Methods and Classes: An abstract method is a method that is declared, but does not contain implementation.'"
      ]
     },
     "execution_count": 6,
     "metadata": {},
     "output_type": "execute_result"
    }
   ],
   "source": [
    "\"\"\"In Python, abstraction can be achieved by having/using abstract classes and methods in our programs. Understanding Abstract Methods and Classes: An abstract method is a method that is declared, but does not contain implementation.\"\"\""
   ]
  },
  {
   "cell_type": "code",
   "execution_count": null,
   "id": "b76da273-7d54-4c23-9d92-576dcbb73861",
   "metadata": {},
   "outputs": [],
   "source": []
  }
 ],
 "metadata": {
  "kernelspec": {
   "display_name": "Python 3 (ipykernel)",
   "language": "python",
   "name": "python3"
  },
  "language_info": {
   "codemirror_mode": {
    "name": "ipython",
    "version": 3
   },
   "file_extension": ".py",
   "mimetype": "text/x-python",
   "name": "python",
   "nbconvert_exporter": "python",
   "pygments_lexer": "ipython3",
   "version": "3.10.8"
  }
 },
 "nbformat": 4,
 "nbformat_minor": 5
}
