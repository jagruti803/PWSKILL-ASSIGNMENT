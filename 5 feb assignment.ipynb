{
 "cells": [
  {
   "cell_type": "code",
   "execution_count": 1,
   "id": "66b641bf-2db7-4e66-a984-501fc615a634",
   "metadata": {},
   "outputs": [
    {
     "data": {
      "text/plain": [
       "'Q1. Explain Class and Object with respect to Object-Oriented Programming. Give a suitable example.'"
      ]
     },
     "execution_count": 1,
     "metadata": {},
     "output_type": "execute_result"
    }
   ],
   "source": [
    "\"\"\"Q1. Explain Class and Object with respect to Object-Oriented Programming. Give a suitable example.\"\"\""
   ]
  },
  {
   "cell_type": "code",
   "execution_count": 2,
   "id": "466225fa-32f4-4a5b-b7d1-b7b5e36794ed",
   "metadata": {},
   "outputs": [
    {
     "data": {
      "text/plain": [
       "'python is an object oriented programming language.\\n\\nAlmost everything in Python is an object, with its properties and methods.\\n\\nA Class is like an object constructor, or a \"blueprint\" for creating objects.'"
      ]
     },
     "execution_count": 2,
     "metadata": {},
     "output_type": "execute_result"
    }
   ],
   "source": [
    "\"\"\"python is an object oriented programming language.\n",
    "\n",
    "Almost everything in Python is an object, with its properties and methods.\n",
    "\n",
    "A Class is like an object constructor, or a \"blueprint\" for creating objects.\"\"\""
   ]
  },
  {
   "cell_type": "code",
   "execution_count": 3,
   "id": "3791e6ef-8225-44e9-8902-1b71dc061cb7",
   "metadata": {},
   "outputs": [],
   "source": [
    "class pwskills1:\n",
    "    def __init__ (self,phone_no,email_id,student_id):\n",
    "        self.phone_no=phone_no\n",
    "        self.email_id=email_id\n",
    "        self.student_id=student_id\n",
    "    def return_student_details(self):\n",
    "        return self.student_id,self.phone_no,self.email_id\n",
    "        "
   ]
  },
  {
   "cell_type": "code",
   "execution_count": 4,
   "id": "07f6849b-d8e5-4291-a3c3-3827f4e1cbfe",
   "metadata": {},
   "outputs": [],
   "source": [
    "rohan=pwskills1(123455677,\"rohan@gmail.com\",101)"
   ]
  },
  {
   "cell_type": "code",
   "execution_count": 5,
   "id": "3f144b68-a91b-457b-a550-b70633cc94d2",
   "metadata": {},
   "outputs": [
    {
     "data": {
      "text/plain": [
       "(101, 123455677, 'rohan@gmail.com')"
      ]
     },
     "execution_count": 5,
     "metadata": {},
     "output_type": "execute_result"
    }
   ],
   "source": [
    "rohan.return_student_details()"
   ]
  },
  {
   "cell_type": "code",
   "execution_count": 7,
   "id": "8f67341a-79f7-4317-b2fe-606cc45880c4",
   "metadata": {},
   "outputs": [
    {
     "data": {
      "text/plain": [
       "' q2 ans=The four pillars of OOPS are Inheritance, Polymorphism, Encapsulation and Abstraction.'"
      ]
     },
     "execution_count": 7,
     "metadata": {},
     "output_type": "execute_result"
    }
   ],
   "source": [
    "\"\"\" q2 ans=The four pillars of OOPS are Inheritance, Polymorphism, Encapsulation and Abstraction.\"\"\""
   ]
  },
  {
   "cell_type": "code",
   "execution_count": 8,
   "id": "3bcc667f-d08d-4a3d-be82-e64281d20b5f",
   "metadata": {},
   "outputs": [
    {
     "data": {
      "text/plain": [
       "' q3 ans=to initialize the attributes of that class'"
      ]
     },
     "execution_count": 8,
     "metadata": {},
     "output_type": "execute_result"
    }
   ],
   "source": [
    "\"\"\" q3 ans=to initialize the attributes of that class\"\"\""
   ]
  },
  {
   "cell_type": "code",
   "execution_count": 11,
   "id": "960e0387-359d-4a32-8a6f-34be8c335d2e",
   "metadata": {},
   "outputs": [],
   "source": [
    "class Person:\n",
    "    def __init__(self, name, age):\n",
    "        self.name = name\n",
    "        self.age = age\n",
    "\n"
   ]
  },
  {
   "cell_type": "code",
   "execution_count": 13,
   "id": "3ab046ba-3b17-4d35-af54-c3e0172797ab",
   "metadata": {},
   "outputs": [],
   "source": [
    "p1=Person('jagruti',21)"
   ]
  },
  {
   "cell_type": "code",
   "execution_count": 14,
   "id": "f7a0fc8a-6c71-4cf0-9fae-c8efcae04df1",
   "metadata": {},
   "outputs": [
    {
     "data": {
      "text/plain": [
       "'jagruti'"
      ]
     },
     "execution_count": 14,
     "metadata": {},
     "output_type": "execute_result"
    }
   ],
   "source": [
    "p1.name"
   ]
  },
  {
   "cell_type": "code",
   "execution_count": 15,
   "id": "c92dcf7e-3347-41dd-9638-b2e16a104cdb",
   "metadata": {},
   "outputs": [
    {
     "data": {
      "text/plain": [
       "' q 4 ans=The self variable is used to represent the instance of the class which is often used in object-oriented programming.'"
      ]
     },
     "execution_count": 15,
     "metadata": {},
     "output_type": "execute_result"
    }
   ],
   "source": [
    "\"\"\" q 4 ans=The self variable is used to represent the instance of the class which is often used in object-oriented programming.\"\"\""
   ]
  },
  {
   "cell_type": "code",
   "execution_count": null,
   "id": "da221cd9-5716-4084-b359-731f28abdde3",
   "metadata": {},
   "outputs": [],
   "source": []
  }
 ],
 "metadata": {
  "kernelspec": {
   "display_name": "Python 3 (ipykernel)",
   "language": "python",
   "name": "python3"
  },
  "language_info": {
   "codemirror_mode": {
    "name": "ipython",
    "version": 3
   },
   "file_extension": ".py",
   "mimetype": "text/x-python",
   "name": "python",
   "nbconvert_exporter": "python",
   "pygments_lexer": "ipython3",
   "version": "3.10.8"
  }
 },
 "nbformat": 4,
 "nbformat_minor": 5
}
