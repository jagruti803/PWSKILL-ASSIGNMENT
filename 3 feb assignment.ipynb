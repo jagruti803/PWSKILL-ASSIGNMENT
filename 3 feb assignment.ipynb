{
 "cells": [
  {
   "cell_type": "code",
   "execution_count": 1,
   "id": "cd3cc1d2-dd44-4b03-b6bd-3649d2db0313",
   "metadata": {},
   "outputs": [
    {
     "data": {
      "text/plain": [
       "'Q6. Write a python program to print the first 10 Fibonacci numbers using a while loop.'"
      ]
     },
     "execution_count": 1,
     "metadata": {},
     "output_type": "execute_result"
    }
   ],
   "source": [
    "\"\"\"Q6. Write a python program to print the first 10 Fibonacci numbers using a while loop.\"\"\""
   ]
  },
  {
   "cell_type": "code",
   "execution_count": 2,
   "id": "0dd8e868-f128-4455-8380-44992f17b34c",
   "metadata": {},
   "outputs": [
    {
     "name": "stdout",
     "output_type": "stream",
     "text": [
      "0\n",
      "1\n",
      "1\n",
      "2\n",
      "3\n",
      "5\n",
      "8\n",
      "13\n",
      "21\n",
      "34\n"
     ]
    }
   ],
   "source": [
    "number=10\n",
    "a,b,=0,1\n",
    "counter=0\n",
    "while counter<number:\n",
    "    print(a)\n",
    "    c=a+b\n",
    "    a=b\n",
    "    b=c\n",
    "    counter=counter+1"
   ]
  },
  {
   "cell_type": "code",
   "execution_count": 3,
   "id": "baca4288-5a88-4e40-9476-9d2d37cf588f",
   "metadata": {
    "tags": []
   },
   "outputs": [
    {
     "data": {
      "text/plain": [
       "\"Q7. Write a List Comprehension to iterate through the given string: ‘pwskills’.\\nExpected output: ['p', 'w', 's', 'k', 'i', 'l', 'l', 's']\""
      ]
     },
     "execution_count": 3,
     "metadata": {},
     "output_type": "execute_result"
    }
   ],
   "source": [
    "\"\"\"Q7. Write a List Comprehension to iterate through the given string: ‘pwskills’.\n",
    "Expected output: ['p', 'w', 's', 'k', 'i', 'l', 'l', 's']\"\"\""
   ]
  },
  {
   "cell_type": "code",
   "execution_count": 6,
   "id": "c507f831-7dc6-4048-8e17-e6bf1d340984",
   "metadata": {
    "tags": []
   },
   "outputs": [
    {
     "data": {
      "text/plain": [
       "['p', 'w', 's', 'k', 'i', 'l', 'l', 's']"
      ]
     },
     "execution_count": 6,
     "metadata": {},
     "output_type": "execute_result"
    }
   ],
   "source": [
    "s='pwskills'\n",
    "[ i for i in s]"
   ]
  },
  {
   "cell_type": "code",
   "execution_count": 7,
   "id": "972b1a04-e1d5-4d06-ac63-e59ac86d874d",
   "metadata": {},
   "outputs": [
    {
     "data": {
      "text/plain": [
       "'Write a python program to check whether a given number is Palindrome or not using a while loop.'"
      ]
     },
     "execution_count": 7,
     "metadata": {},
     "output_type": "execute_result"
    }
   ],
   "source": [
    "\"\"\" q8)Write a python program to check whether a given number is Palindrome or not using a while loop.\"\"\""
   ]
  },
  {
   "cell_type": "code",
   "execution_count": 3,
   "id": "51c1048e-7ffe-4d09-abaa-b08e22ff1fb6",
   "metadata": {},
   "outputs": [
    {
     "data": {
      "text/plain": [
       "52.5"
      ]
     },
     "execution_count": 3,
     "metadata": {},
     "output_type": "execute_result"
    }
   ],
   "source": [
    "525/10\n"
   ]
  },
  {
   "cell_type": "code",
   "execution_count": 4,
   "id": "e29fbb01-0775-41dd-84b9-077ebe2ef198",
   "metadata": {},
   "outputs": [
    {
     "data": {
      "text/plain": [
       "52"
      ]
     },
     "execution_count": 4,
     "metadata": {},
     "output_type": "execute_result"
    }
   ],
   "source": [
    "525//10"
   ]
  },
  {
   "cell_type": "code",
   "execution_count": 6,
   "id": "cfc58a92-7ceb-4365-a81b-3b00e2ab6b6d",
   "metadata": {},
   "outputs": [
    {
     "name": "stdin",
     "output_type": "stream",
     "text": [
      "enter a no 525\n"
     ]
    },
    {
     "name": "stdout",
     "output_type": "stream",
     "text": [
      "number is  Palindrome\n"
     ]
    }
   ],
   "source": [
    "i=int(input(\"enter a no\"))\n",
    "rev=0\n",
    "x=i\n",
    "while(i>0):\n",
    "    rev=(rev*10)+i%10\n",
    "    i=i//10\n",
    "if rev==x:\n",
    "    print(\"number is  Palindrome\")\n",
    "else:\n",
    "    print(\"number is not Palindrome\")\n",
    "    "
   ]
  },
  {
   "cell_type": "code",
   "execution_count": 7,
   "id": "cb8bcfc3-ec7f-49b6-944b-c231c740dfed",
   "metadata": {},
   "outputs": [
    {
     "data": {
      "text/plain": [
       "'Q9. Write a code to print odd numbers from 1 to 100 using list comprehension.'"
      ]
     },
     "execution_count": 7,
     "metadata": {},
     "output_type": "execute_result"
    }
   ],
   "source": [
    "\"\"\"Q9. Write a code to print odd numbers from 1 to 100 using list comprehension.\"\"\""
   ]
  },
  {
   "cell_type": "code",
   "execution_count": 8,
   "id": "85ea61a1-29b8-4dd9-9554-e2600fdb0def",
   "metadata": {},
   "outputs": [
    {
     "data": {
      "text/plain": [
       "[1,\n",
       " 3,\n",
       " 5,\n",
       " 7,\n",
       " 9,\n",
       " 11,\n",
       " 13,\n",
       " 15,\n",
       " 17,\n",
       " 19,\n",
       " 21,\n",
       " 23,\n",
       " 25,\n",
       " 27,\n",
       " 29,\n",
       " 31,\n",
       " 33,\n",
       " 35,\n",
       " 37,\n",
       " 39,\n",
       " 41,\n",
       " 43,\n",
       " 45,\n",
       " 47,\n",
       " 49,\n",
       " 51,\n",
       " 53,\n",
       " 55,\n",
       " 57,\n",
       " 59,\n",
       " 61,\n",
       " 63,\n",
       " 65,\n",
       " 67,\n",
       " 69,\n",
       " 71,\n",
       " 73,\n",
       " 75,\n",
       " 77,\n",
       " 79,\n",
       " 81,\n",
       " 83,\n",
       " 85,\n",
       " 87,\n",
       " 89,\n",
       " 91,\n",
       " 93,\n",
       " 95,\n",
       " 97,\n",
       " 99]"
      ]
     },
     "execution_count": 8,
     "metadata": {},
     "output_type": "execute_result"
    }
   ],
   "source": [
    "[i for i in range(100) if i%2!=0]"
   ]
  },
  {
   "cell_type": "code",
   "execution_count": 11,
   "id": "1bfc702d-2907-4321-b16c-0756b85bc845",
   "metadata": {},
   "outputs": [
    {
     "data": {
      "text/plain": [
       "'q1)Which keyword is used to create a function? Create a function to return a list of odd numbers in the\\nrange of 1 to 25.'"
      ]
     },
     "execution_count": 11,
     "metadata": {},
     "output_type": "execute_result"
    }
   ],
   "source": [
    "\"\"\"q1)Which keyword is used to create a function? Create a function to return a list of odd numbers in the\n",
    "range of 1 to 25.\"\"\""
   ]
  },
  {
   "cell_type": "code",
   "execution_count": 10,
   "id": "055f0a08-24f6-4588-a4f3-ad351e7c8e01",
   "metadata": {},
   "outputs": [],
   "source": [
    "# def keyword is used to create a function\n"
   ]
  },
  {
   "cell_type": "code",
   "execution_count": 27,
   "id": "1f589e8a-03f6-4c59-8131-39d9c33a2022",
   "metadata": {},
   "outputs": [],
   "source": [
    "\n",
    "def test12(n):\n",
    "    l1=[]\n",
    "    for i in n:\n",
    "        if i%2 !=0:\n",
    "            l1.append(i)\n",
    "    return l1"
   ]
  },
  {
   "cell_type": "code",
   "execution_count": 28,
   "id": "3dc459c9-9a92-4c1d-a856-5bd00f0cf820",
   "metadata": {},
   "outputs": [],
   "source": [
    "l2=list(range(25))"
   ]
  },
  {
   "cell_type": "code",
   "execution_count": 29,
   "id": "8020cc44-25cd-4b11-9d20-c28fa75c68ab",
   "metadata": {},
   "outputs": [
    {
     "data": {
      "text/plain": [
       "[1, 3, 5, 7, 9, 11, 13, 15, 17, 19, 21, 23]"
      ]
     },
     "execution_count": 29,
     "metadata": {},
     "output_type": "execute_result"
    }
   ],
   "source": [
    "test12(l2)"
   ]
  },
  {
   "cell_type": "code",
   "execution_count": 30,
   "id": "2413203a-fae0-4e20-9564-a7c4bc47f852",
   "metadata": {},
   "outputs": [
    {
     "data": {
      "text/plain": [
       "'Why *args and **kwargs is used in some functions? Create a function each for *args and **kwargs\\nto demonstrate their use'"
      ]
     },
     "execution_count": 30,
     "metadata": {},
     "output_type": "execute_result"
    }
   ],
   "source": [
    "\"\"\"q2)Why *args and **kwargs is used in some functions? Create a function each for *args and **kwargs\n",
    "to demonstrate their use\"\"\""
   ]
  },
  {
   "cell_type": "code",
   "execution_count": 31,
   "id": "2f1ab0fb-ff3f-43f2-b864-98c3fb6b6ccb",
   "metadata": {},
   "outputs": [],
   "source": [
    "#*args allows us to pass a variable number of non-keyword arguments to a Python function. In the function, we should use an asterisk (*) before the parameter name to pass a variable number of arguments.\n",
    "#The special syntax **kwargs in function definitions in python is used to pass a keyworded, variable-length argument list. We use the name kwargs with the double star. The reason is that the double star allows us to pass through keyword arguments."
   ]
  },
  {
   "cell_type": "code",
   "execution_count": 36,
   "id": "19b6ebd9-36f6-4c61-92da-5b478583f381",
   "metadata": {},
   "outputs": [],
   "source": [
    "def myFun(arg1, **kwargs):\n",
    "    for key, value in kwargs.items():\n",
    "        print(\"%s = %s\" % (key, value))\n",
    "  \n",
    "  "
   ]
  },
  {
   "cell_type": "code",
   "execution_count": 37,
   "id": "5eb56d43-7a58-4a83-b984-40bf3c80784f",
   "metadata": {},
   "outputs": [
    {
     "name": "stdout",
     "output_type": "stream",
     "text": [
      "first = jagruti\n"
     ]
    }
   ],
   "source": [
    "myFun(\"hi\",first=\"jagruti\")"
   ]
  },
  {
   "cell_type": "code",
   "execution_count": 45,
   "id": "8ea57735-2986-438b-8c9c-41f5a16c0ff8",
   "metadata": {},
   "outputs": [],
   "source": [
    "def test(*args):\n",
    "    for i in args:\n",
    "        print(i)"
   ]
  },
  {
   "cell_type": "code",
   "execution_count": 46,
   "id": "567781c9-38eb-47a9-8a26-6d80767c1932",
   "metadata": {},
   "outputs": [
    {
     "name": "stdout",
     "output_type": "stream",
     "text": [
      "2\n",
      "4\n",
      "5\n",
      "3\n"
     ]
    }
   ],
   "source": [
    "test(2,4,5,3)"
   ]
  },
  {
   "cell_type": "code",
   "execution_count": 49,
   "id": "e637c559-1f17-4e47-8b16-4a5a1028ed04",
   "metadata": {},
   "outputs": [
    {
     "data": {
      "text/plain": [
       "'q3)What is an iterator in python? Name the method used to initialise the iterator object and the method\\nused for iteration. Use these methods to print the first five elements of the given list [2, 4, 6, 8, 10, 12, 14,\\n16, 18, 20].'"
      ]
     },
     "execution_count": 49,
     "metadata": {},
     "output_type": "execute_result"
    }
   ],
   "source": [
    "\"\"\"q3)What is an iterator in python? Name the method used to initialise the iterator object and the method\n",
    "used for iteration. Use these methods to print the first five elements of the given list [2, 4, 6, 8, 10, 12, 14,\n",
    "16, 18, 20].\"\"\""
   ]
  },
  {
   "cell_type": "code",
   "execution_count": 48,
   "id": "05965bb5-f64a-4b9f-a1b4-eb3cc93df182",
   "metadata": {},
   "outputs": [],
   "source": [
    "# iterable object can be used as a iterator \"iter\" used to convert iterable object to interator"
   ]
  },
  {
   "cell_type": "code",
   "execution_count": 57,
   "id": "4fd324cd-16fe-4ee6-abf6-9be71433f737",
   "metadata": {},
   "outputs": [],
   "source": [
    "l1=[2, 4, 6, 8, 10, 12, 14,16, 18, 20]\n"
   ]
  },
  {
   "cell_type": "code",
   "execution_count": 58,
   "id": "dc8019c2-1668-4cb2-8c50-78687ae715db",
   "metadata": {},
   "outputs": [],
   "source": [
    "l2=iter(l1)"
   ]
  },
  {
   "cell_type": "code",
   "execution_count": 59,
   "id": "ead42ed0-621c-4b51-8af2-c573ecf5e531",
   "metadata": {},
   "outputs": [
    {
     "data": {
      "text/plain": [
       "2"
      ]
     },
     "execution_count": 59,
     "metadata": {},
     "output_type": "execute_result"
    }
   ],
   "source": [
    "next(l2)"
   ]
  },
  {
   "cell_type": "code",
   "execution_count": 60,
   "id": "9920d964-58ab-4e5b-8483-0770e73906cb",
   "metadata": {},
   "outputs": [
    {
     "data": {
      "text/plain": [
       "4"
      ]
     },
     "execution_count": 60,
     "metadata": {},
     "output_type": "execute_result"
    }
   ],
   "source": [
    "next(l2)"
   ]
  },
  {
   "cell_type": "code",
   "execution_count": 61,
   "id": "25e5cb3a-74a5-4914-8e5f-ea8e7f4bca16",
   "metadata": {},
   "outputs": [
    {
     "data": {
      "text/plain": [
       "6"
      ]
     },
     "execution_count": 61,
     "metadata": {},
     "output_type": "execute_result"
    }
   ],
   "source": [
    "next(l2)"
   ]
  },
  {
   "cell_type": "code",
   "execution_count": 62,
   "id": "e63915b0-cc1e-496e-aa87-cd117abb247c",
   "metadata": {},
   "outputs": [
    {
     "data": {
      "text/plain": [
       "8"
      ]
     },
     "execution_count": 62,
     "metadata": {},
     "output_type": "execute_result"
    }
   ],
   "source": [
    "next(l2)"
   ]
  },
  {
   "cell_type": "code",
   "execution_count": 63,
   "id": "5b6fef5c-46cd-4c14-b396-885f2d0d4e6a",
   "metadata": {},
   "outputs": [
    {
     "data": {
      "text/plain": [
       "10"
      ]
     },
     "execution_count": 63,
     "metadata": {},
     "output_type": "execute_result"
    }
   ],
   "source": [
    "next(l2)"
   ]
  },
  {
   "cell_type": "code",
   "execution_count": 64,
   "id": "d4fdf358-f602-46a8-921d-0f95b5e43b12",
   "metadata": {},
   "outputs": [
    {
     "data": {
      "text/plain": [
       "'What is a generator function in python? Why yield keyword is used? Give an example of a generator\\nfunction.'"
      ]
     },
     "execution_count": 64,
     "metadata": {},
     "output_type": "execute_result"
    }
   ],
   "source": [
    "\"\"\"What is a generator function in python? Why yield keyword is used? Give an example of a generator\n",
    "function.\"\"\""
   ]
  },
  {
   "cell_type": "code",
   "execution_count": 65,
   "id": "227e226f-bc5a-4892-8033-7182f0d2455a",
   "metadata": {},
   "outputs": [
    {
     "data": {
      "text/plain": [
       "' generator function is used for memory consume In Python, generator functions are those functions that, instead of returning a single value, return an iterable generator object. You can access or read the values returned from the generator function stored inside a generator object one-by-one using a simple loop or using next() or list() methods.\\nyield keyword is used to create a generator function. A type of function that is memory efficient and can be used like an iterator object.\\n'"
      ]
     },
     "execution_count": 65,
     "metadata": {},
     "output_type": "execute_result"
    }
   ],
   "source": [
    "\"\"\" generator function is used for memory consume In Python, generator functions are those functions that, instead of returning a single value, return an iterable generator object. You can access or read the values returned from the generator function stored inside a generator object one-by-one using a simple loop or using next() or list() methods.\n",
    "yield keyword is used to create a generator function. A type of function that is memory efficient and can be used like an iterator object.\n",
    "\"\"\"\n",
    "\n",
    "\n"
   ]
  },
  {
   "cell_type": "code",
   "execution_count": 66,
   "id": "9bfe440c-7927-4817-bf59-934d28a63f7d",
   "metadata": {},
   "outputs": [],
   "source": [
    "def test_fib():\n",
    "    a,b=0,1\n",
    "    while True:\n",
    "        yield a\n",
    "        a,b=b,a+b"
   ]
  },
  {
   "cell_type": "code",
   "execution_count": 67,
   "id": "b9c3765c-7dc0-4c94-8b29-fa5b5101e891",
   "metadata": {},
   "outputs": [],
   "source": [
    "fib=test_fib()"
   ]
  },
  {
   "cell_type": "code",
   "execution_count": 68,
   "id": "68bc6365-901c-4e5e-b5f9-f7cb2dd1963e",
   "metadata": {},
   "outputs": [
    {
     "name": "stdout",
     "output_type": "stream",
     "text": [
      "0\n",
      "1\n",
      "1\n",
      "2\n",
      "3\n",
      "5\n",
      "8\n",
      "13\n",
      "21\n",
      "34\n"
     ]
    }
   ],
   "source": [
    "for i in range(10):\n",
    "    print(next(fib))\n",
    "    "
   ]
  },
  {
   "cell_type": "code",
   "execution_count": 69,
   "id": "3aae501e-2065-4443-874c-36c3283b7de5",
   "metadata": {},
   "outputs": [
    {
     "data": {
      "text/plain": [
       "'Create a generator function for prime numbers less than 1000. Use the next() method to print the\\nfirst 20 prime numbers.'"
      ]
     },
     "execution_count": 69,
     "metadata": {},
     "output_type": "execute_result"
    }
   ],
   "source": [
    "\"\"\"Create a generator function for prime numbers less than 1000. Use the next() method to print the\n",
    "first 20 prime numbers.\"\"\""
   ]
  },
  {
   "cell_type": "code",
   "execution_count": 1,
   "id": "5852c364-93cf-4637-a33c-62b42513d720",
   "metadata": {},
   "outputs": [],
   "source": [
    "def generate_primes():\n",
    "    # first prime number is 2\n",
    "    yield 2\n",
    "    \n",
    "    # check for primes starting from 3\n",
    "    for num in range(3, 1000, 2):\n",
    "        if all(num % i != 0 for i in range(3, int(num**0.5)+1, 2)):\n",
    "            # if num is prime, yield it\n",
    "            yield num\n",
    "        \n",
    "    "
   ]
  },
  {
   "cell_type": "code",
   "execution_count": 5,
   "id": "d1b99d7e-043e-4c66-a272-7db91ab99e82",
   "metadata": {},
   "outputs": [],
   "source": [
    "prime=generate_primes()"
   ]
  },
  {
   "cell_type": "code",
   "execution_count": 6,
   "id": "3b4a3294-f210-4653-a964-e5a783d2884f",
   "metadata": {},
   "outputs": [
    {
     "name": "stdout",
     "output_type": "stream",
     "text": [
      "2\n",
      "3\n",
      "5\n",
      "7\n",
      "11\n",
      "13\n",
      "17\n",
      "19\n",
      "23\n",
      "29\n",
      "31\n",
      "37\n",
      "41\n",
      "43\n",
      "47\n",
      "53\n",
      "59\n",
      "61\n",
      "67\n",
      "71\n"
     ]
    }
   ],
   "source": [
    "for i in range(20):\n",
    "    print(next(prime))"
   ]
  },
  {
   "cell_type": "code",
   "execution_count": null,
   "id": "ff221f64-144f-4b50-a567-40d58ed1d9cc",
   "metadata": {},
   "outputs": [],
   "source": []
  }
 ],
 "metadata": {
  "kernelspec": {
   "display_name": "Python 3 (ipykernel)",
   "language": "python",
   "name": "python3"
  },
  "language_info": {
   "codemirror_mode": {
    "name": "ipython",
    "version": 3
   },
   "file_extension": ".py",
   "mimetype": "text/x-python",
   "name": "python",
   "nbconvert_exporter": "python",
   "pygments_lexer": "ipython3",
   "version": "3.10.8"
  }
 },
 "nbformat": 4,
 "nbformat_minor": 5
}
