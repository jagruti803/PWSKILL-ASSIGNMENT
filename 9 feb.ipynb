{
 "cells": [
  {
   "cell_type": "code",
   "execution_count": 1,
   "id": "b5338564-97c5-459d-982b-0c5f86fabf14",
   "metadata": {},
   "outputs": [
    {
     "data": {
      "text/plain": [
       "'Q1, Create a vehicle class with an init method having instance variables as name_of_vehicle, max_speed\\nand average_of_vehicle.'"
      ]
     },
     "execution_count": 1,
     "metadata": {},
     "output_type": "execute_result"
    }
   ],
   "source": [
    "\"\"\"Q1, Create a vehicle class with an init method having instance variables as name_of_vehicle, max_speed\n",
    "and average_of_vehicle.\"\"\""
   ]
  },
  {
   "cell_type": "code",
   "execution_count": 17,
   "id": "dfed3b1a-973e-4c6a-b3d2-0c2ce3230934",
   "metadata": {},
   "outputs": [],
   "source": [
    "class vehicle:\n",
    "    def __init__(self,name_of_vehicle,max_speed,average_of_vehicle):\n",
    "        self.name_of_vehicle=name_of_vehicle\n",
    "        self.max_speed=max_speed\n",
    "        self.average_of_vehicle=average_of_vehicle\n",
    "        \n",
    "    def vehicle_information(self):\n",
    "        return(self.name_of_vehicle,self.max_speed,self.average_of_vehicle)"
   ]
  },
  {
   "cell_type": "code",
   "execution_count": 18,
   "id": "10875241-eeb8-494a-876e-2915daf8ca1c",
   "metadata": {},
   "outputs": [],
   "source": [
    "jagu=vehicle(\"car\",320,50)"
   ]
  },
  {
   "cell_type": "code",
   "execution_count": 19,
   "id": "7adf87e2-b8a3-4e18-a0e3-9da2deef9274",
   "metadata": {},
   "outputs": [
    {
     "data": {
      "text/plain": [
       "('car', 320, 50)"
      ]
     },
     "execution_count": 19,
     "metadata": {},
     "output_type": "execute_result"
    }
   ],
   "source": [
    "jagu.vehicle_information()"
   ]
  },
  {
   "cell_type": "code",
   "execution_count": 20,
   "id": "dd27b1a7-ed47-419e-b554-dc7edcb6fbf7",
   "metadata": {},
   "outputs": [
    {
     "data": {
      "text/plain": [
       "'Create a child class car from the vehicle class created in Que 1, which will inherit the vehicle class.\\nCreate a method named seating_capacity which takes capacity as an argument and returns the name of\\nthe vehicle and its seating capacity.'"
      ]
     },
     "execution_count": 20,
     "metadata": {},
     "output_type": "execute_result"
    }
   ],
   "source": [
    "\"\"\"Create a child class car from the vehicle class created in Que 1, which will inherit the vehicle class.\n",
    "Create a method named seating_capacity which takes capacity as an argument and returns the name of\n",
    "the vehicle and its seating capacity.\"\"\""
   ]
  },
  {
   "cell_type": "code",
   "execution_count": 113,
   "id": "0b0e1cc5-037e-447b-afe0-73599b7e54b0",
   "metadata": {},
   "outputs": [],
   "source": [
    "class child_class(vehicle):\n",
    "    def seating_capacity(self,seating_capacity):\n",
    "        self.seating_capacity=seating_capacity\n",
    "    def info(self):\n",
    "        return(self.name_of_vehicle,self.seating_capacity)\n",
    "        "
   ]
  },
  {
   "cell_type": "code",
   "execution_count": 114,
   "id": "c9f47059-9720-4303-ad12-d3fe137789b5",
   "metadata": {},
   "outputs": [],
   "source": [
    "rohan=child_class(\"car\",34,56)"
   ]
  },
  {
   "cell_type": "code",
   "execution_count": 115,
   "id": "a5a8d49f-1acc-4142-9ea7-08cb94d56309",
   "metadata": {},
   "outputs": [],
   "source": [
    "rohan.seating_capacity(23)"
   ]
  },
  {
   "cell_type": "code",
   "execution_count": 116,
   "id": "a4ff28c9-240b-4114-8bac-b13f19ce6113",
   "metadata": {},
   "outputs": [
    {
     "data": {
      "text/plain": [
       "('car', 34, 56)"
      ]
     },
     "execution_count": 116,
     "metadata": {},
     "output_type": "execute_result"
    }
   ],
   "source": [
    "rohan.vehicle_information()"
   ]
  },
  {
   "cell_type": "code",
   "execution_count": 117,
   "id": "e785a450-68e1-4152-9368-746b56075014",
   "metadata": {},
   "outputs": [
    {
     "data": {
      "text/plain": [
       "'car'"
      ]
     },
     "execution_count": 117,
     "metadata": {},
     "output_type": "execute_result"
    }
   ],
   "source": [
    "rohan.name_of_vehicle"
   ]
  },
  {
   "cell_type": "code",
   "execution_count": 118,
   "id": "41a63357-4a13-4c29-9ccc-b55474e917a8",
   "metadata": {},
   "outputs": [],
   "source": [
    "rohan.name_of_vehicle=\"bicycle\""
   ]
  },
  {
   "cell_type": "code",
   "execution_count": 119,
   "id": "4ac0ddba-70bb-44c7-b372-f6a33242738a",
   "metadata": {},
   "outputs": [
    {
     "data": {
      "text/plain": [
       "23"
      ]
     },
     "execution_count": 119,
     "metadata": {},
     "output_type": "execute_result"
    }
   ],
   "source": [
    "rohan.seating_capacity"
   ]
  },
  {
   "cell_type": "code",
   "execution_count": 120,
   "id": "f0b36259-9750-4d95-b86d-a1f88e9c93cd",
   "metadata": {},
   "outputs": [],
   "source": [
    "rohan.seating_capacity=34"
   ]
  },
  {
   "cell_type": "code",
   "execution_count": 121,
   "id": "478d15c9-b5aa-4106-8a79-dc359b9193f3",
   "metadata": {},
   "outputs": [
    {
     "data": {
      "text/plain": [
       "34"
      ]
     },
     "execution_count": 121,
     "metadata": {},
     "output_type": "execute_result"
    }
   ],
   "source": [
    "rohan.seating_capacity"
   ]
  },
  {
   "cell_type": "code",
   "execution_count": 122,
   "id": "d2d7fcf6-3bb9-473a-a106-c33e9f63cec8",
   "metadata": {},
   "outputs": [
    {
     "data": {
      "text/plain": [
       "34"
      ]
     },
     "execution_count": 122,
     "metadata": {},
     "output_type": "execute_result"
    }
   ],
   "source": [
    "rohan.seating_capacity"
   ]
  },
  {
   "cell_type": "code",
   "execution_count": 123,
   "id": "ea33e85d-7afb-42b2-b996-f2dee47f2c86",
   "metadata": {},
   "outputs": [
    {
     "data": {
      "text/plain": [
       "'bicycle'"
      ]
     },
     "execution_count": 123,
     "metadata": {},
     "output_type": "execute_result"
    }
   ],
   "source": [
    "rohan.name_of_vehicle"
   ]
  },
  {
   "cell_type": "code",
   "execution_count": 124,
   "id": "c666c98b-0414-45a1-99bc-2cd597dc54b0",
   "metadata": {},
   "outputs": [
    {
     "data": {
      "text/plain": [
       "('bicycle', 34)"
      ]
     },
     "execution_count": 124,
     "metadata": {},
     "output_type": "execute_result"
    }
   ],
   "source": [
    "rohan.info()"
   ]
  },
  {
   "cell_type": "code",
   "execution_count": 1,
   "id": "d1d37269-15ba-475d-af6a-356b011d4a97",
   "metadata": {},
   "outputs": [
    {
     "data": {
      "text/plain": [
       "'What is multiple inheritance? Write a python code to demonstrate multiple inheritance.'"
      ]
     },
     "execution_count": 1,
     "metadata": {},
     "output_type": "execute_result"
    }
   ],
   "source": [
    "\"\"\"What is multiple inheritance? Write a python code to demonstrate multiple inheritance.\"\"\""
   ]
  },
  {
   "cell_type": "code",
   "execution_count": 3,
   "id": "88041c16-5ec2-4d36-ba74-1146d49dab0c",
   "metadata": {},
   "outputs": [
    {
     "data": {
      "text/plain": [
       "'When a class is derived from more than one base class it is called multiple Inheritance. The derived class inherits all the features of the base case.'"
      ]
     },
     "execution_count": 3,
     "metadata": {},
     "output_type": "execute_result"
    }
   ],
   "source": [
    "\"\"\"When a class is derived from more than one base class it is called multiple Inheritance. The derived class inherits all the features of the base case.\"\"\""
   ]
  },
  {
   "cell_type": "code",
   "execution_count": 2,
   "id": "957189ed-eb46-4f94-a2a8-7c23aa337490",
   "metadata": {},
   "outputs": [
    {
     "name": "stdout",
     "output_type": "stream",
     "text": [
      "In Class4\n",
      "In Class2\n",
      "In Class1\n",
      "In Class3\n",
      "In Class1\n"
     ]
    }
   ],
   "source": [
    "class Class1:\n",
    "    def m(self):\n",
    "        print(\"In Class1\")  \n",
    "     \n",
    "    \n",
    "class Class2(Class1):\n",
    "    def m(self):\n",
    "        print(\"In Class2\")\n",
    "        Class1.m(self)\n",
    "\n",
    "class Class3(Class1):\n",
    "    def m(self):\n",
    "        print(\"In Class3\")\n",
    "        Class1.m(self)  \n",
    "\n",
    "class Class4(Class2, Class3):\n",
    "    def m(self):\n",
    "        print(\"In Class4\")  \n",
    "        Class2.m(self)\n",
    "        Class3.m(self)\n",
    "      \n",
    "    \n",
    "obj = Class4()\n",
    "obj.m()"
   ]
  },
  {
   "cell_type": "code",
   "execution_count": 4,
   "id": "27486ae4-9843-46ec-83a9-a9e309a4befe",
   "metadata": {},
   "outputs": [
    {
     "data": {
      "text/plain": [
       "'What are getter and setter in python? Create a class and create a getter and a setter method in this\\nclass.'"
      ]
     },
     "execution_count": 4,
     "metadata": {},
     "output_type": "execute_result"
    }
   ],
   "source": [
    "\"\"\"What are getter and setter in python? Create a class and create a getter and a setter method in this\n",
    "class.\"\"\""
   ]
  },
  {
   "cell_type": "code",
   "execution_count": 28,
   "id": "18441d92-5b88-407b-9f45-5b8f54269bdf",
   "metadata": {},
   "outputs": [
    {
     "data": {
      "text/plain": [
       "'In Python, getters and setters are not the same as those in other object-oriented programming languages. Basically, the main purpose of using getters and setters in object-oriented programs is to ensure data encapsulation\\n'"
      ]
     },
     "execution_count": 28,
     "metadata": {},
     "output_type": "execute_result"
    }
   ],
   "source": [
    "\"\"\"In Python, getters and setters are not the same as those in other object-oriented programming languages. Basically, the main purpose of using getters and setters in object-oriented programs is to ensure data encapsulation\n",
    "\"\"\""
   ]
  },
  {
   "cell_type": "code",
   "execution_count": 20,
   "id": "e9c1dd9c-7e60-4bbc-9aab-61f0f74e92c0",
   "metadata": {},
   "outputs": [],
   "source": [
    "class age:\n",
    "    def __init__(self):\n",
    "        self.__age=0\n",
    "    def get_age(self):\n",
    "        print(\"getter method called\")\n",
    "        return self.__age\n",
    "    def set_age(self,a):\n",
    "        print(\"setter method called\")\n",
    "        if a<20:\n",
    "            print(\"not applicabel\")\n",
    "        self.__age=a"
   ]
  },
  {
   "cell_type": "code",
   "execution_count": 22,
   "id": "0dd6dc72-691f-4f32-9509-3c1b6486cdd7",
   "metadata": {},
   "outputs": [],
   "source": [
    "jagu=age()"
   ]
  },
  {
   "cell_type": "code",
   "execution_count": 24,
   "id": "9151cf61-5ed9-4fe6-8f8a-d59eb710b63a",
   "metadata": {},
   "outputs": [
    {
     "name": "stdout",
     "output_type": "stream",
     "text": [
      "getter method called\n"
     ]
    },
    {
     "data": {
      "text/plain": [
       "0"
      ]
     },
     "execution_count": 24,
     "metadata": {},
     "output_type": "execute_result"
    }
   ],
   "source": [
    "jagu.get_age()\n"
   ]
  },
  {
   "cell_type": "code",
   "execution_count": 25,
   "id": "204f9e8e-ff68-4256-9f4b-bfd67a6442d9",
   "metadata": {},
   "outputs": [
    {
     "name": "stdout",
     "output_type": "stream",
     "text": [
      "setter method called\n"
     ]
    }
   ],
   "source": [
    "jagu.set_age(45)"
   ]
  },
  {
   "cell_type": "code",
   "execution_count": 27,
   "id": "a6b8b530-6411-40ef-9297-b2a14265cbbc",
   "metadata": {},
   "outputs": [
    {
     "name": "stdout",
     "output_type": "stream",
     "text": [
      "getter method called\n"
     ]
    },
    {
     "data": {
      "text/plain": [
       "45"
      ]
     },
     "execution_count": 27,
     "metadata": {},
     "output_type": "execute_result"
    }
   ],
   "source": [
    "jagu.get_age()"
   ]
  },
  {
   "cell_type": "code",
   "execution_count": 29,
   "id": "c83bdcf0-cf79-4f80-aaa3-7b37102b9b43",
   "metadata": {},
   "outputs": [
    {
     "data": {
      "text/plain": [
       "45"
      ]
     },
     "execution_count": 29,
     "metadata": {},
     "output_type": "execute_result"
    }
   ],
   "source": [
    "jagu._age__age"
   ]
  },
  {
   "cell_type": "code",
   "execution_count": null,
   "id": "667153ce-fcc0-49cf-b9ac-315a52474f64",
   "metadata": {},
   "outputs": [],
   "source": []
  }
 ],
 "metadata": {
  "kernelspec": {
   "display_name": "Python 3 (ipykernel)",
   "language": "python",
   "name": "python3"
  },
  "language_info": {
   "codemirror_mode": {
    "name": "ipython",
    "version": 3
   },
   "file_extension": ".py",
   "mimetype": "text/x-python",
   "name": "python",
   "nbconvert_exporter": "python",
   "pygments_lexer": "ipython3",
   "version": "3.10.8"
  }
 },
 "nbformat": 4,
 "nbformat_minor": 5
}
